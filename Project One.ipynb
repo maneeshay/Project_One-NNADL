{
 "cells": [
  {
   "cell_type": "code",
   "execution_count": 45,
   "id": "31853aa6-ee99-44f8-867d-4a6adbc1ab75",
   "metadata": {
    "tags": []
   },
   "outputs": [],
   "source": [
    "# import the required libraries\n",
    "import os\n",
    "from torchvision import datasets, transforms\n",
    "from torch.utils.data import DataLoader, Dataset\n",
    "from PIL import Image\n",
    "\n",
    "import torch\n",
    "import torch.nn as nn\n",
    "import torch.nn.functional as F"
   ]
  },
  {
   "cell_type": "markdown",
   "id": "009e8fc2",
   "metadata": {
    "tags": []
   },
   "source": [
    "# 1. Build your own convolutional neural network using pytorch"
   ]
  },
  {
   "cell_type": "markdown",
   "id": "1ed2e80b-20f3-41a6-bd80-800d5880cb3d",
   "metadata": {},
   "source": [
    "### Dataset loading & preprocessing"
   ]
  },
  {
   "cell_type": "code",
   "execution_count": 46,
   "id": "7cdfc24c-c3fb-4f52-9889-1b015bef66e6",
   "metadata": {
    "tags": []
   },
   "outputs": [],
   "source": [
    "# Set base paths\n",
    "data_dir = \"Dog_X_ray/Dog_heart\"\n",
    "test_dir = \"Dog_X_ray/Test\"\n",
    "\n",
    "# Define image size (can change later)\n",
    "IMG_SIZE = 224\n",
    "\n",
    "# Define label mapping\n",
    "label_map = {\"Small\": 0, \"Normal\": 1, \"Large\": 2}\n",
    "\n",
    "#  Transforms\n",
    "\"\"\"train_transforms = transforms.Compose([\n",
    "    transforms.Resize((IMG_SIZE, IMG_SIZE)),\n",
    "    transforms.RandomHorizontalFlip(),  # optional augmentation\n",
    "    transforms.ToTensor(),\n",
    "])\"\"\"\n",
    "\n",
    "train_transforms = transforms.Compose([\n",
    "    transforms.Resize((224, 224)),\n",
    "    transforms.RandomHorizontalFlip(),\n",
    "    transforms.RandomRotation(10),\n",
    "    transforms.ColorJitter(brightness=0.2, contrast=0.2),\n",
    "    transforms.ToTensor(),\n",
    "])\n",
    "\"\"\"train_transforms = transforms.Compose([\n",
    "    transforms.Resize((224, 224)),\n",
    "    transforms.RandomHorizontalFlip(),\n",
    "    transforms.RandomVerticalFlip(),\n",
    "    transforms.RandomRotation(15),\n",
    "    transforms.ColorJitter(brightness=0.2, contrast=0.2),\n",
    "    transforms.RandomAffine(degrees=15, translate=(0.1, 0.1)),\n",
    "    transforms.ToTensor(),\n",
    "])\"\"\"\n",
    "\n",
    "val_transforms = transforms.Compose([\n",
    "    transforms.Resize((IMG_SIZE, IMG_SIZE)),\n",
    "    transforms.ToTensor(),\n",
    "])\n",
    "\n",
    "test_transforms = transforms.Compose([\n",
    "    transforms.Resize((IMG_SIZE, IMG_SIZE)),\n",
    "    transforms.ToTensor(),\n",
    "])\n",
    "\n",
    "\n",
    "\n"
   ]
  },
  {
   "cell_type": "code",
   "execution_count": 47,
   "id": "78ccbb65-c001-4070-b12a-b53981b5f346",
   "metadata": {
    "tags": []
   },
   "outputs": [],
   "source": [
    "#  Load Train and Valid using ImageFolder\n",
    "train_data = datasets.ImageFolder(os.path.join(data_dir, 'Train'), transform=train_transforms)\n",
    "val_data = datasets.ImageFolder(os.path.join(data_dir, 'Valid'), transform=val_transforms)\n",
    "\n",
    "train_loader = DataLoader(train_data, batch_size=16, shuffle=True)\n",
    "val_loader = DataLoader(val_data, batch_size=16, shuffle=False)\n",
    "\n",
    "# 3. Custom Dataset for Test Images\n",
    "class TestDataset(Dataset):\n",
    "    def __init__(self, root_dir, transform=None):\n",
    "        self.root_dir = root_dir\n",
    "        self.transform = transform\n",
    "        self.image_paths = sorted([\n",
    "            os.path.join(root_dir, fname) for fname in os.listdir(root_dir)\n",
    "            if fname.endswith((\".png\", \".jpg\", \".jpeg\"))\n",
    "        ])\n",
    "        self.image_names = [os.path.basename(p) for p in self.image_paths]\n",
    "\n",
    "    def __len__(self):\n",
    "        return len(self.image_paths)\n",
    "\n",
    "    def __getitem__(self, idx):\n",
    "        img_path = self.image_paths[idx]\n",
    "        image = Image.open(img_path).convert(\"RGB\")\n",
    "        if self.transform:\n",
    "            image = self.transform(image)\n",
    "        return image, self.image_names[idx]  # return image + filename\n",
    "\n",
    "# Load Test Dataset\n",
    "test_dataset = TestDataset(test_dir, transform=test_transforms)\n",
    "test_loader = DataLoader(test_dataset, batch_size=32, shuffle=False)"
   ]
  },
  {
   "cell_type": "code",
   "execution_count": 48,
   "id": "14029432-0b9d-45ea-b01e-1fe5c4af868b",
   "metadata": {
    "tags": []
   },
   "outputs": [
    {
     "name": "stdout",
     "output_type": "stream",
     "text": [
      "Batch shape: torch.Size([16, 3, 224, 224]), Labels: tensor([1, 1, 1, 1, 1, 2, 0, 0, 2, 1, 0, 0, 2, 1, 1, 1])\n"
     ]
    }
   ],
   "source": [
    "# Sanity check\n",
    "for images, labels in train_loader:\n",
    "    print(f\"Batch shape: {images.shape}, Labels: {labels}\")\n",
    "    break  "
   ]
  },
  {
   "cell_type": "markdown",
   "id": "4376cd86-d684-4b86-8f57-d1427d6b78ae",
   "metadata": {},
   "source": [
    "##  Defining the CNN architecture"
   ]
  },
  {
   "cell_type": "code",
   "execution_count": 49,
   "id": "8ef958f4-7d45-41e2-a3af-ecd8744dbd8e",
   "metadata": {
    "tags": []
   },
   "outputs": [],
   "source": [
    "class DogHeartCNN(nn.Module):\n",
    "    def __init__(self):\n",
    "        super(DogHeartCNN, self).__init__()\n",
    "\n",
    "        self.conv_block1 = nn.Sequential(\n",
    "            nn.Conv2d(3, 32, kernel_size=3, padding=1),  # 224x224\n",
    "            nn.BatchNorm2d(32),\n",
    "            nn.ReLU(),\n",
    "            nn.MaxPool2d(2)  # 112x112\n",
    "        )\n",
    "\n",
    "        self.conv_block2 = nn.Sequential(\n",
    "            nn.Conv2d(32, 64, kernel_size=3, padding=1),  # 112x112\n",
    "            nn.BatchNorm2d(64),\n",
    "            nn.ReLU(),\n",
    "            nn.MaxPool2d(2)  # 56x56\n",
    "        )\n",
    "\n",
    "        self.conv_block3 = nn.Sequential(\n",
    "            nn.Conv2d(64, 128, kernel_size=3, padding=1),  # 56x56\n",
    "            nn.BatchNorm2d(128),\n",
    "            nn.ReLU(),\n",
    "            nn.MaxPool2d(2)  # 28x28\n",
    "        )\n",
    "\n",
    "        self.conv_block4 = nn.Sequential(\n",
    "            nn.Conv2d(128, 256, kernel_size=3, padding=1),  # 28x28\n",
    "            nn.BatchNorm2d(256),\n",
    "            nn.ReLU(),\n",
    "            nn.MaxPool2d(2)  # 14x14\n",
    "        )\n",
    "        # 5th block\n",
    "        self.conv_block5 = nn.Sequential(\n",
    "            nn.Conv2d(256, 512, kernel_size=3, padding=1),\n",
    "            nn.BatchNorm2d(512),\n",
    "            nn.ReLU(),\n",
    "            nn.MaxPool2d(2)  # 14 -> 7\n",
    "        )\n",
    "\n",
    "\n",
    "        self.dropout = nn.Dropout(0.5)\n",
    "        self.fc1 = nn.Linear(256 * 14 * 14, 512)\n",
    "        self.fc2 = nn.Linear(512, 3)  # 3 classes\n",
    "\n",
    "    def forward(self, x):\n",
    "        x = self.conv_block1(x)\n",
    "        x = self.conv_block2(x)\n",
    "        x = self.conv_block3(x)\n",
    "        x = self.conv_block4(x)\n",
    "        x = x.view(x.size(0), -1)  # Flatten\n",
    "        x = self.dropout(F.relu(self.fc1(x)))\n",
    "        x = self.fc2(x)\n",
    "        return x"
   ]
  },
  {
   "cell_type": "markdown",
   "id": "0c8b87e8-2e49-4595-9cc8-cc3cceb57feb",
   "metadata": {},
   "source": [
    "# 2. Train your model using dog heart dataset (you may need to use  Google Colab (or Kaggle) with GPU to train your code) \n",
    "\n",
    "### (1) use torchvision.datasets.ImageFolder for the training dataset\n",
    "### (2) use custom dataloader for test dataset (return image tensor and file name)"
   ]
  },
  {
   "cell_type": "code",
   "execution_count": 50,
   "id": "24b8773d-3ff0-4f4c-9338-eaab0c3bc942",
   "metadata": {
    "tags": []
   },
   "outputs": [
    {
     "name": "stdout",
     "output_type": "stream",
     "text": [
      "Using device: cpu\n"
     ]
    }
   ],
   "source": [
    "# Train model using dog heart dataset \n",
    "import matplotlib.pyplot as plt\n",
    "import torch\n",
    "from tqdm import tqdm\n",
    "\n",
    "# Set device\n",
    "device = torch.device(\"cuda\" if torch.cuda.is_available() else \"cpu\")\n",
    "print(f\"Using device: {device}\")\n",
    "\n",
    "# Initialize model\n",
    "model = DogHeartCNN().to(device)\n",
    "\n",
    "# Loss and optimizer\n",
    "criterion = torch.nn.CrossEntropyLoss()\n",
    "optimizer = torch.optim.Adam(model.parameters(), lr=1e-4, weight_decay=1e-5)\n",
    "\n",
    "# Add learning rate scheduler (without verbose)\n",
    "scheduler = torch.optim.lr_scheduler.ReduceLROnPlateau(optimizer, mode='max', patience=3, factor=0.5)\n",
    "\n",
    "def train_model(model, train_loader, val_loader, criterion, optimizer, epochs=30):\n",
    "    best_val_acc = 0.0\n",
    "    train_acc_list = []\n",
    "    val_acc_list = []\n",
    "    train_loss_list = []\n",
    "    val_loss_list = []\n",
    "\n",
    "    for epoch in range(epochs):\n",
    "        model.train()\n",
    "        running_loss = 0.0\n",
    "        correct = 0\n",
    "        total = 0\n",
    "\n",
    "        # Training loop\n",
    "        for images, labels in tqdm(train_loader, desc=f\"Epoch {epoch+1}/{epochs} - Training\"):\n",
    "            images, labels = images.to(device), labels.to(device)\n",
    "\n",
    "            outputs = model(images)\n",
    "            loss = criterion(outputs, labels)\n",
    "\n",
    "            optimizer.zero_grad()\n",
    "            loss.backward()\n",
    "            optimizer.step()\n",
    "\n",
    "            running_loss += loss.item()\n",
    "            _, predicted = torch.max(outputs.data, 1)\n",
    "            total += labels.size(0)\n",
    "            correct += (predicted == labels).sum().item()\n",
    "\n",
    "        train_acc = correct / total\n",
    "        train_loss = running_loss / len(train_loader)\n",
    "        train_acc_list.append(train_acc)\n",
    "        train_loss_list.append(train_loss)\n",
    "\n",
    "        # Validation loop\n",
    "        model.eval()\n",
    "        val_loss = 0.0\n",
    "        val_correct = 0\n",
    "        val_total = 0\n",
    "\n",
    "        with torch.no_grad():\n",
    "            for images, labels in tqdm(val_loader, desc=f\"Epoch {epoch+1}/{epochs} - Validation\"):\n",
    "                images, labels = images.to(device), labels.to(device)\n",
    "                outputs = model(images)\n",
    "                loss = criterion(outputs, labels)\n",
    "\n",
    "                val_loss += loss.item()\n",
    "                _, predicted = torch.max(outputs.data, 1)\n",
    "                val_total += labels.size(0)\n",
    "                val_correct += (predicted == labels).sum().item()\n",
    "\n",
    "        val_acc = val_correct / val_total\n",
    "        val_loss = val_loss / len(val_loader)\n",
    "        val_acc_list.append(val_acc)\n",
    "        val_loss_list.append(val_loss)\n",
    "\n",
    "        print(f\"\\nEpoch {epoch+1}/{epochs}\")\n",
    "        print(f\"Train Loss: {train_loss:.4f} | Train Acc: {train_acc:.4f}\")\n",
    "        print(f\"Val   Loss: {val_loss:.4f} | Val   Acc: {val_acc:.4f}\")\n",
    "\n",
    "        # Step the scheduler with validation accuracy\n",
    "        scheduler.step(val_acc)\n",
    "\n",
    "        # Print current learning rate\n",
    "        print(f\"Current LR: {scheduler.optimizer.param_groups[0]['lr']}\")\n",
    "\n",
    "        # Save the best model\n",
    "        if val_acc > best_val_acc:\n",
    "            best_val_acc = val_acc\n",
    "            torch.save(model.state_dict(), \"best_model.pth\")\n",
    "            print(\"model saved!\")\n",
    "\n",
    "    print(f\"\\nValidation Accuracy: {best_val_acc:.4f}\")\n",
    "\n",
    "    # Plot accuracy & loss\n",
    "    epochs_range = range(1, epochs + 1)\n",
    "    plt.figure(figsize=(12, 5))\n",
    "    \n",
    "    # Accuracy plot\n",
    "    plt.subplot(1, 2, 1)\n",
    "    plt.plot(epochs_range, train_acc_list, label='Train Accuracy')\n",
    "    plt.plot(epochs_range, val_acc_list, label='Validation Accuracy')\n",
    "    plt.title('Accuracy Over Epochs')\n",
    "    plt.xlabel('Epoch')\n",
    "    plt.ylabel('Accuracy')\n",
    "    plt.legend()\n",
    "    \n",
    "    # Loss plot\n",
    "    plt.subplot(1, 2, 2)\n",
    "    plt.plot(epochs_range, train_loss_list, label='Train Loss')\n",
    "    plt.plot(epochs_range, val_loss_list, label='Validation Loss')\n",
    "    plt.title('Loss Over Epochs')\n",
    "    plt.xlabel('Epoch')\n",
    "    plt.ylabel('Loss')\n",
    "    plt.legend()\n",
    "\n",
    "    plt.tight_layout()\n",
    "    plt.show()\n"
   ]
  },
  {
   "cell_type": "code",
   "execution_count": 51,
   "id": "15df8668-ee35-4946-82e5-efa279d5d883",
   "metadata": {
    "tags": []
   },
   "outputs": [
    {
     "name": "stderr",
     "output_type": "stream",
     "text": [
      "Epoch 1/30 - Training: 100%|██████████| 88/88 [00:53<00:00,  1.64it/s]\n",
      "Epoch 1/30 - Validation: 100%|██████████| 13/13 [00:03<00:00,  3.61it/s]\n"
     ]
    },
    {
     "name": "stdout",
     "output_type": "stream",
     "text": [
      "\n",
      "Epoch 1/30\n",
      "Train Loss: 1.4394 | Train Acc: 0.4164\n",
      "Val   Loss: 0.9996 | Val   Acc: 0.4550\n",
      "Current LR: 0.0001\n",
      "model saved!\n"
     ]
    },
    {
     "name": "stderr",
     "output_type": "stream",
     "text": [
      "Epoch 2/30 - Training: 100%|██████████| 88/88 [00:55<00:00,  1.58it/s]\n",
      "Epoch 2/30 - Validation: 100%|██████████| 13/13 [00:03<00:00,  3.55it/s]\n"
     ]
    },
    {
     "name": "stdout",
     "output_type": "stream",
     "text": [
      "\n",
      "Epoch 2/30\n",
      "Train Loss: 0.9630 | Train Acc: 0.4707\n",
      "Val   Loss: 0.9539 | Val   Acc: 0.4200\n",
      "Current LR: 0.0001\n"
     ]
    },
    {
     "name": "stderr",
     "output_type": "stream",
     "text": [
      "Epoch 3/30 - Training: 100%|██████████| 88/88 [00:55<00:00,  1.59it/s]\n",
      "Epoch 3/30 - Validation: 100%|██████████| 13/13 [00:03<00:00,  3.66it/s]\n"
     ]
    },
    {
     "name": "stdout",
     "output_type": "stream",
     "text": [
      "\n",
      "Epoch 3/30\n",
      "Train Loss: 0.9302 | Train Acc: 0.4686\n",
      "Val   Loss: 0.8975 | Val   Acc: 0.4600\n",
      "Current LR: 0.0001\n",
      "model saved!\n"
     ]
    },
    {
     "name": "stderr",
     "output_type": "stream",
     "text": [
      "Epoch 4/30 - Training: 100%|██████████| 88/88 [00:53<00:00,  1.66it/s]\n",
      "Epoch 4/30 - Validation: 100%|██████████| 13/13 [00:03<00:00,  3.72it/s]\n"
     ]
    },
    {
     "name": "stdout",
     "output_type": "stream",
     "text": [
      "\n",
      "Epoch 4/30\n",
      "Train Loss: 0.9096 | Train Acc: 0.4914\n",
      "Val   Loss: 0.9020 | Val   Acc: 0.4900\n",
      "Current LR: 0.0001\n",
      "model saved!\n"
     ]
    },
    {
     "name": "stderr",
     "output_type": "stream",
     "text": [
      "Epoch 5/30 - Training: 100%|██████████| 88/88 [00:52<00:00,  1.67it/s]\n",
      "Epoch 5/30 - Validation: 100%|██████████| 13/13 [00:03<00:00,  3.64it/s]\n"
     ]
    },
    {
     "name": "stdout",
     "output_type": "stream",
     "text": [
      "\n",
      "Epoch 5/30\n",
      "Train Loss: 0.8402 | Train Acc: 0.5407\n",
      "Val   Loss: 0.8657 | Val   Acc: 0.5200\n",
      "Current LR: 0.0001\n",
      "model saved!\n"
     ]
    },
    {
     "name": "stderr",
     "output_type": "stream",
     "text": [
      "Epoch 6/30 - Training: 100%|██████████| 88/88 [00:53<00:00,  1.66it/s]\n",
      "Epoch 6/30 - Validation: 100%|██████████| 13/13 [00:03<00:00,  3.65it/s]\n"
     ]
    },
    {
     "name": "stdout",
     "output_type": "stream",
     "text": [
      "\n",
      "Epoch 6/30\n",
      "Train Loss: 0.8018 | Train Acc: 0.5743\n",
      "Val   Loss: 0.7790 | Val   Acc: 0.5850\n",
      "Current LR: 0.0001\n",
      "model saved!\n"
     ]
    },
    {
     "name": "stderr",
     "output_type": "stream",
     "text": [
      "Epoch 7/30 - Training: 100%|██████████| 88/88 [00:55<00:00,  1.59it/s]\n",
      "Epoch 7/30 - Validation: 100%|██████████| 13/13 [00:03<00:00,  3.40it/s]\n"
     ]
    },
    {
     "name": "stdout",
     "output_type": "stream",
     "text": [
      "\n",
      "Epoch 7/30\n",
      "Train Loss: 0.7746 | Train Acc: 0.5993\n",
      "Val   Loss: 0.8602 | Val   Acc: 0.5550\n",
      "Current LR: 0.0001\n"
     ]
    },
    {
     "name": "stderr",
     "output_type": "stream",
     "text": [
      "Epoch 8/30 - Training: 100%|██████████| 88/88 [00:55<00:00,  1.57it/s]\n",
      "Epoch 8/30 - Validation: 100%|██████████| 13/13 [00:03<00:00,  3.74it/s]\n"
     ]
    },
    {
     "name": "stdout",
     "output_type": "stream",
     "text": [
      "\n",
      "Epoch 8/30\n",
      "Train Loss: 0.7735 | Train Acc: 0.5914\n",
      "Val   Loss: 0.7218 | Val   Acc: 0.6450\n",
      "Current LR: 0.0001\n",
      "model saved!\n"
     ]
    },
    {
     "name": "stderr",
     "output_type": "stream",
     "text": [
      "Epoch 9/30 - Training: 100%|██████████| 88/88 [00:53<00:00,  1.65it/s]\n",
      "Epoch 9/30 - Validation: 100%|██████████| 13/13 [00:03<00:00,  3.66it/s]\n"
     ]
    },
    {
     "name": "stdout",
     "output_type": "stream",
     "text": [
      "\n",
      "Epoch 9/30\n",
      "Train Loss: 0.7503 | Train Acc: 0.6036\n",
      "Val   Loss: 0.7881 | Val   Acc: 0.5950\n",
      "Current LR: 0.0001\n"
     ]
    },
    {
     "name": "stderr",
     "output_type": "stream",
     "text": [
      "Epoch 10/30 - Training: 100%|██████████| 88/88 [00:53<00:00,  1.63it/s]\n",
      "Epoch 10/30 - Validation: 100%|██████████| 13/13 [00:03<00:00,  3.72it/s]\n"
     ]
    },
    {
     "name": "stdout",
     "output_type": "stream",
     "text": [
      "\n",
      "Epoch 10/30\n",
      "Train Loss: 0.7344 | Train Acc: 0.6257\n",
      "Val   Loss: 0.6678 | Val   Acc: 0.6950\n",
      "Current LR: 0.0001\n",
      "model saved!\n"
     ]
    },
    {
     "name": "stderr",
     "output_type": "stream",
     "text": [
      "Epoch 11/30 - Training: 100%|██████████| 88/88 [00:52<00:00,  1.67it/s]\n",
      "Epoch 11/30 - Validation: 100%|██████████| 13/13 [00:03<00:00,  3.57it/s]\n"
     ]
    },
    {
     "name": "stdout",
     "output_type": "stream",
     "text": [
      "\n",
      "Epoch 11/30\n",
      "Train Loss: 0.7332 | Train Acc: 0.6307\n",
      "Val   Loss: 0.7370 | Val   Acc: 0.6400\n",
      "Current LR: 0.0001\n"
     ]
    },
    {
     "name": "stderr",
     "output_type": "stream",
     "text": [
      "Epoch 12/30 - Training: 100%|██████████| 88/88 [00:57<00:00,  1.53it/s]\n",
      "Epoch 12/30 - Validation: 100%|██████████| 13/13 [00:03<00:00,  3.71it/s]\n"
     ]
    },
    {
     "name": "stdout",
     "output_type": "stream",
     "text": [
      "\n",
      "Epoch 12/30\n",
      "Train Loss: 0.7171 | Train Acc: 0.6450\n",
      "Val   Loss: 0.7393 | Val   Acc: 0.6100\n",
      "Current LR: 0.0001\n"
     ]
    },
    {
     "name": "stderr",
     "output_type": "stream",
     "text": [
      "Epoch 13/30 - Training: 100%|██████████| 88/88 [00:53<00:00,  1.65it/s]\n",
      "Epoch 13/30 - Validation: 100%|██████████| 13/13 [00:03<00:00,  3.62it/s]\n"
     ]
    },
    {
     "name": "stdout",
     "output_type": "stream",
     "text": [
      "\n",
      "Epoch 13/30\n",
      "Train Loss: 0.6951 | Train Acc: 0.6564\n",
      "Val   Loss: 0.8499 | Val   Acc: 0.5300\n",
      "Current LR: 0.0001\n"
     ]
    },
    {
     "name": "stderr",
     "output_type": "stream",
     "text": [
      "Epoch 14/30 - Training: 100%|██████████| 88/88 [00:52<00:00,  1.67it/s]\n",
      "Epoch 14/30 - Validation: 100%|██████████| 13/13 [00:03<00:00,  3.58it/s]\n"
     ]
    },
    {
     "name": "stdout",
     "output_type": "stream",
     "text": [
      "\n",
      "Epoch 14/30\n",
      "Train Loss: 0.6926 | Train Acc: 0.6550\n",
      "Val   Loss: 0.7019 | Val   Acc: 0.6300\n",
      "Current LR: 5e-05\n"
     ]
    },
    {
     "name": "stderr",
     "output_type": "stream",
     "text": [
      "Epoch 15/30 - Training: 100%|██████████| 88/88 [00:55<00:00,  1.58it/s]\n",
      "Epoch 15/30 - Validation: 100%|██████████| 13/13 [00:03<00:00,  3.66it/s]\n"
     ]
    },
    {
     "name": "stdout",
     "output_type": "stream",
     "text": [
      "\n",
      "Epoch 15/30\n",
      "Train Loss: 0.6744 | Train Acc: 0.6779\n",
      "Val   Loss: 0.6441 | Val   Acc: 0.6800\n",
      "Current LR: 5e-05\n"
     ]
    },
    {
     "name": "stderr",
     "output_type": "stream",
     "text": [
      "Epoch 16/30 - Training: 100%|██████████| 88/88 [00:54<00:00,  1.61it/s]\n",
      "Epoch 16/30 - Validation: 100%|██████████| 13/13 [00:03<00:00,  3.64it/s]\n"
     ]
    },
    {
     "name": "stdout",
     "output_type": "stream",
     "text": [
      "\n",
      "Epoch 16/30\n",
      "Train Loss: 0.6606 | Train Acc: 0.6693\n",
      "Val   Loss: 0.6758 | Val   Acc: 0.6350\n",
      "Current LR: 5e-05\n"
     ]
    },
    {
     "name": "stderr",
     "output_type": "stream",
     "text": [
      "Epoch 17/30 - Training: 100%|██████████| 88/88 [00:54<00:00,  1.61it/s]\n",
      "Epoch 17/30 - Validation: 100%|██████████| 13/13 [00:03<00:00,  3.54it/s]\n"
     ]
    },
    {
     "name": "stdout",
     "output_type": "stream",
     "text": [
      "\n",
      "Epoch 17/30\n",
      "Train Loss: 0.6538 | Train Acc: 0.6807\n",
      "Val   Loss: 0.6462 | Val   Acc: 0.6950\n",
      "Current LR: 5e-05\n"
     ]
    },
    {
     "name": "stderr",
     "output_type": "stream",
     "text": [
      "Epoch 18/30 - Training: 100%|██████████| 88/88 [00:54<00:00,  1.61it/s]\n",
      "Epoch 18/30 - Validation: 100%|██████████| 13/13 [00:03<00:00,  3.61it/s]\n"
     ]
    },
    {
     "name": "stdout",
     "output_type": "stream",
     "text": [
      "\n",
      "Epoch 18/30\n",
      "Train Loss: 0.6490 | Train Acc: 0.6779\n",
      "Val   Loss: 0.6418 | Val   Acc: 0.6550\n",
      "Current LR: 2.5e-05\n"
     ]
    },
    {
     "name": "stderr",
     "output_type": "stream",
     "text": [
      "Epoch 19/30 - Training: 100%|██████████| 88/88 [00:54<00:00,  1.62it/s]\n",
      "Epoch 19/30 - Validation: 100%|██████████| 13/13 [00:03<00:00,  3.67it/s]\n"
     ]
    },
    {
     "name": "stdout",
     "output_type": "stream",
     "text": [
      "\n",
      "Epoch 19/30\n",
      "Train Loss: 0.6275 | Train Acc: 0.6850\n",
      "Val   Loss: 0.6410 | Val   Acc: 0.6950\n",
      "Current LR: 2.5e-05\n"
     ]
    },
    {
     "name": "stderr",
     "output_type": "stream",
     "text": [
      "Epoch 20/30 - Training: 100%|██████████| 88/88 [00:52<00:00,  1.68it/s]\n",
      "Epoch 20/30 - Validation: 100%|██████████| 13/13 [00:03<00:00,  3.72it/s]\n"
     ]
    },
    {
     "name": "stdout",
     "output_type": "stream",
     "text": [
      "\n",
      "Epoch 20/30\n",
      "Train Loss: 0.6196 | Train Acc: 0.7057\n",
      "Val   Loss: 0.6464 | Val   Acc: 0.6750\n",
      "Current LR: 2.5e-05\n"
     ]
    },
    {
     "name": "stderr",
     "output_type": "stream",
     "text": [
      "Epoch 21/30 - Training: 100%|██████████| 88/88 [00:52<00:00,  1.67it/s]\n",
      "Epoch 21/30 - Validation: 100%|██████████| 13/13 [00:03<00:00,  3.72it/s]\n"
     ]
    },
    {
     "name": "stdout",
     "output_type": "stream",
     "text": [
      "\n",
      "Epoch 21/30\n",
      "Train Loss: 0.6250 | Train Acc: 0.6929\n",
      "Val   Loss: 0.6257 | Val   Acc: 0.6900\n",
      "Current LR: 2.5e-05\n"
     ]
    },
    {
     "name": "stderr",
     "output_type": "stream",
     "text": [
      "Epoch 22/30 - Training: 100%|██████████| 88/88 [00:52<00:00,  1.66it/s]\n",
      "Epoch 22/30 - Validation: 100%|██████████| 13/13 [00:03<00:00,  3.58it/s]\n"
     ]
    },
    {
     "name": "stdout",
     "output_type": "stream",
     "text": [
      "\n",
      "Epoch 22/30\n",
      "Train Loss: 0.6216 | Train Acc: 0.7100\n",
      "Val   Loss: 0.6261 | Val   Acc: 0.7050\n",
      "Current LR: 2.5e-05\n",
      "model saved!\n"
     ]
    },
    {
     "name": "stderr",
     "output_type": "stream",
     "text": [
      "Epoch 23/30 - Training: 100%|██████████| 88/88 [00:52<00:00,  1.67it/s]\n",
      "Epoch 23/30 - Validation: 100%|██████████| 13/13 [00:03<00:00,  3.53it/s]\n"
     ]
    },
    {
     "name": "stdout",
     "output_type": "stream",
     "text": [
      "\n",
      "Epoch 23/30\n",
      "Train Loss: 0.6245 | Train Acc: 0.6914\n",
      "Val   Loss: 0.6335 | Val   Acc: 0.7100\n",
      "Current LR: 2.5e-05\n",
      "model saved!\n"
     ]
    },
    {
     "name": "stderr",
     "output_type": "stream",
     "text": [
      "Epoch 24/30 - Training: 100%|██████████| 88/88 [00:56<00:00,  1.55it/s]\n",
      "Epoch 24/30 - Validation: 100%|██████████| 13/13 [00:03<00:00,  3.49it/s]\n"
     ]
    },
    {
     "name": "stdout",
     "output_type": "stream",
     "text": [
      "\n",
      "Epoch 24/30\n",
      "Train Loss: 0.6119 | Train Acc: 0.7086\n",
      "Val   Loss: 0.6363 | Val   Acc: 0.6600\n",
      "Current LR: 2.5e-05\n"
     ]
    },
    {
     "name": "stderr",
     "output_type": "stream",
     "text": [
      "Epoch 25/30 - Training: 100%|██████████| 88/88 [00:53<00:00,  1.65it/s]\n",
      "Epoch 25/30 - Validation: 100%|██████████| 13/13 [00:03<00:00,  3.62it/s]\n"
     ]
    },
    {
     "name": "stdout",
     "output_type": "stream",
     "text": [
      "\n",
      "Epoch 25/30\n",
      "Train Loss: 0.6244 | Train Acc: 0.7114\n",
      "Val   Loss: 0.6275 | Val   Acc: 0.6750\n",
      "Current LR: 2.5e-05\n"
     ]
    },
    {
     "name": "stderr",
     "output_type": "stream",
     "text": [
      "Epoch 26/30 - Training: 100%|██████████| 88/88 [00:52<00:00,  1.69it/s]\n",
      "Epoch 26/30 - Validation: 100%|██████████| 13/13 [00:03<00:00,  3.66it/s]\n"
     ]
    },
    {
     "name": "stdout",
     "output_type": "stream",
     "text": [
      "\n",
      "Epoch 26/30\n",
      "Train Loss: 0.6076 | Train Acc: 0.7043\n",
      "Val   Loss: 0.6230 | Val   Acc: 0.7100\n",
      "Current LR: 2.5e-05\n"
     ]
    },
    {
     "name": "stderr",
     "output_type": "stream",
     "text": [
      "Epoch 27/30 - Training: 100%|██████████| 88/88 [00:52<00:00,  1.68it/s]\n",
      "Epoch 27/30 - Validation: 100%|██████████| 13/13 [00:03<00:00,  3.72it/s]\n"
     ]
    },
    {
     "name": "stdout",
     "output_type": "stream",
     "text": [
      "\n",
      "Epoch 27/30\n",
      "Train Loss: 0.5943 | Train Acc: 0.7214\n",
      "Val   Loss: 0.6251 | Val   Acc: 0.7150\n",
      "Current LR: 2.5e-05\n",
      "model saved!\n"
     ]
    },
    {
     "name": "stderr",
     "output_type": "stream",
     "text": [
      "Epoch 28/30 - Training: 100%|██████████| 88/88 [00:52<00:00,  1.67it/s]\n",
      "Epoch 28/30 - Validation: 100%|██████████| 13/13 [00:03<00:00,  3.40it/s]\n"
     ]
    },
    {
     "name": "stdout",
     "output_type": "stream",
     "text": [
      "\n",
      "Epoch 28/30\n",
      "Train Loss: 0.5834 | Train Acc: 0.7279\n",
      "Val   Loss: 0.6200 | Val   Acc: 0.6750\n",
      "Current LR: 2.5e-05\n"
     ]
    },
    {
     "name": "stderr",
     "output_type": "stream",
     "text": [
      "Epoch 29/30 - Training: 100%|██████████| 88/88 [00:54<00:00,  1.63it/s]\n",
      "Epoch 29/30 - Validation: 100%|██████████| 13/13 [00:03<00:00,  3.71it/s]\n"
     ]
    },
    {
     "name": "stdout",
     "output_type": "stream",
     "text": [
      "\n",
      "Epoch 29/30\n",
      "Train Loss: 0.6022 | Train Acc: 0.7171\n",
      "Val   Loss: 0.6654 | Val   Acc: 0.6750\n",
      "Current LR: 2.5e-05\n"
     ]
    },
    {
     "name": "stderr",
     "output_type": "stream",
     "text": [
      "Epoch 30/30 - Training: 100%|██████████| 88/88 [00:53<00:00,  1.63it/s]\n",
      "Epoch 30/30 - Validation: 100%|██████████| 13/13 [00:03<00:00,  3.68it/s]\n"
     ]
    },
    {
     "name": "stdout",
     "output_type": "stream",
     "text": [
      "\n",
      "Epoch 30/30\n",
      "Train Loss: 0.6009 | Train Acc: 0.7236\n",
      "Val   Loss: 0.6401 | Val   Acc: 0.6650\n",
      "Current LR: 2.5e-05\n",
      "\n",
      "Validation Accuracy: 0.7150\n"
     ]
    },
    {
     "data": {
      "image/png": "[encoded data removed]",
      "text/plain": [
       "<Figure size 1200x500 with 2 Axes>"
      ]
     },
     "metadata": {},
     "output_type": "display_data"
    }
   ],
   "source": [
    "train_model(model, train_loader, val_loader, criterion, optimizer, epochs=30)"
   ]
  },
  {
   "cell_type": "markdown",
   "id": "1980ddf5-a00f-4430-b5f1-a6e066639553",
   "metadata": {},
   "source": [
    "###  Generating test predictions"
   ]
  },
  {
   "cell_type": "code",
   "execution_count": 41,
   "id": "afb90079-2878-4ee4-8690-e0d1b4855c51",
   "metadata": {
    "tags": []
   },
   "outputs": [],
   "source": [
    "import pandas as pd\n",
    "\n",
    "def generate_predictions(model_path, test_loader, output_csv=\"test_predictions.csv\"):\n",
    "    \n",
    "    #load the model\n",
    "    model = DogHeartCNN()\n",
    "    model.load_state_dict(torch.load(model_path, map_location=device))\n",
    "    model.to(device)\n",
    "    model.eval()\n",
    "\n",
    "    predictions = []\n",
    "    image_names = []\n",
    "\n",
    "    with torch.no_grad():\n",
    "        for images, names in tqdm(test_loader, desc=\"Generating Predictions\"):\n",
    "            images = images.to(device)\n",
    "            outputs = model(images)\n",
    "            _, preds = torch.max(outputs, 1)\n",
    "            predictions.extend(preds.cpu().numpy())\n",
    "            image_names.extend(names)\n",
    "\n",
    "    # Save csv\n",
    "    with open(output_csv, \"w\") as f:\n",
    "        for name, pred in zip(image_names, predictions):\n",
    "            f.write(f\"{name},{pred}\\n\")\n",
    "\n",
    "    print(f\"\\n Predictions saved to: {output_csv}\")\n"
   ]
  },
  {
   "cell_type": "code",
   "execution_count": 42,
   "id": "4dad945b-7ef9-41df-a23e-c36b7a07456a",
   "metadata": {
    "tags": []
   },
   "outputs": [
    {
     "name": "stderr",
     "output_type": "stream",
     "text": [
      "Generating Predictions: 100%|██████████| 13/13 [00:06<00:00,  1.88it/s]"
     ]
    },
    {
     "name": "stdout",
     "output_type": "stream",
     "text": [
      "\n",
      " Predictions saved to: test_predictions.csv\n"
     ]
    },
    {
     "name": "stderr",
     "output_type": "stream",
     "text": [
      "\n"
     ]
    }
   ],
   "source": [
    "generate_predictions(\"best_model.pth\", test_loader)"
   ]
  },
  {
   "cell_type": "markdown",
   "id": "e943220a-899c-45fe-9fde-f65203d9558b",
   "metadata": {},
   "source": [
    "# 3. Evaluate your model using the developed software"
   ]
  },
  {
   "attachments": {
    "d3f3c4db-b7ce-4e0c-b7f8-b75ad5c0139e.png": {
     "image/png": "[encoded data removed]"
    }
   },
   "cell_type": "markdown",
   "id": "c77a1284-7eac-4809-94eb-adf06c2e83d0",
   "metadata": {},
   "source": [
    "![image.png](attachment:d3f3c4db-b7ce-4e0c-b7f8-b75ad5c0139e.png)"
   ]
  },
  {
   "cell_type": "markdown",
   "id": "1b5846bc",
   "metadata": {},
   "source": [
    "# 4. Compare results with [RVT paper](https://www.nature.com/articles/s41598-023-50063-x). Requirement: performance is better than VGG16: 75%"
   ]
  },
  {
   "cell_type": "markdown",
   "id": "168d2c03-5df6-4682-b38a-3fbd98cbf8d0",
   "metadata": {},
   "source": [
    "In the given paper \"Regressive Vision Transformer for Dog Cardiomegaly Assessment\", report states that their baseline model, VGG16, gained an overall accuracy of 75% on the dog heart X-ray classification task. This gives as the benchmark for calculating the architectures.\n",
    "\n",
    "My CNN, trained from scratch, reached the peak accuracy of 72.75%. This outcome does not overshadow the VGG16 performance but is close to it with a significantly lighter architecture involving fewer parameters, as well as no pretrained weights.\n",
    "\n",
    "The gap in the performance (~2.25%) probably could be neutralized with a bit more tuning, a deeper insight into augmentations, or transfer learning, yet our model shows a strong possibility and is worth being implemented, especially taking into account the constrains on the resources and training."
   ]
  },
  {
   "cell_type": "markdown",
   "id": "62f12835",
   "metadata": {},
   "source": [
    "# 5. Write a four-page paper report using the shared LaTex template. Upload your paper to ResearchGate or Arxiv, and put your paper link and GitHub weight link here."
   ]
  },
  {
   "cell_type": "code",
   "execution_count": null,
   "id": "17bd67e4-dfd3-44dc-a178-47e46559b103",
   "metadata": {},
   "outputs": [],
   "source": []
  },
  {
   "cell_type": "markdown",
   "id": "f476372c",
   "metadata": {},
   "source": [
    "# 6. Grading rubric\n",
    "\n",
    "(1). Code ------- 20 points (you also need to upload your final model as a pt file)\n",
    "\n",
    "(2). Grammer ---- 20 points\n",
    "\n",
    "(3). Introduction & related work --- 10 points\n",
    "\n",
    "\n",
    "(4). Method  ---- 20 points\n",
    "\n",
    "(5). Results ---- 20 points\n",
    "\n",
    "     > = 75 % -->10 points\n",
    "     < 55 % -->0 points\n",
    "     >= 55 % & < 75% --> 0.5 point/percent\n",
    "     \n",
    "\n",
    "(6). Discussion - 10 points"
   ]
  },
  {
   "cell_type": "code",
   "execution_count": null,
   "id": "445593c4",
   "metadata": {},
   "outputs": [],
   "source": []
  }
 ],
 "metadata": {
  "kernelspec": {
   "display_name": "Python 3 (ipykernel)",
   "language": "python",
   "name": "python3"
  },
  "language_info": {
   "codemirror_mode": {
    "name": "ipython",
    "version": 3
   },
   "file_extension": ".py",
   "mimetype": "text/x-python",
   "name": "python",
   "nbconvert_exporter": "python",
   "pygments_lexer": "ipython3",
   "version": "3.11.5"
  }
 },
 "nbformat": 4,
 "nbformat_minor": 5
}
